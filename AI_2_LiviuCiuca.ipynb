{
 "cells": [
  {
   "cell_type": "code",
   "execution_count": 579,
   "id": "a90b2922-86f5-46c7-b30b-a6615b1f17f7",
   "metadata": {
    "tags": []
   },
   "outputs": [],
   "source": [
    "import pandas as pd                             #used for data manipulation and analysis\n",
    "from scipy.io.arff import loadarff              #used to read an arff file.\n",
    "import seaborn as sn                            #used to plot heatmaps \n",
    "import matplotlib.pyplot as plt                 #used to graphicaly show results\n",
    "import tensorflow as tf\n",
    "import numpy as np\n",
    "\n",
    "#sklearn is simple and efficient library for predictive data analisys\n",
    "from sklearn.model_selection import train_test_split                         \n",
    "from sklearn.metrics import confusion_matrix,accuracy_score,make_scorer,precision_score\n",
    "from sklearn.preprocessing import LabelEncoder,MinMaxScaler\n",
    "from sklearn.neighbors import KNeighborsClassifier\n",
    "from sklearn.model_selection import GridSearchCV\n",
    "from sklearn.neural_network import MLPClassifier\n",
    "\n"
   ]
  },
  {
   "cell_type": "code",
   "execution_count": 580,
   "id": "022dc47a-1f24-4c34-b499-2d7be1c4bc41",
   "metadata": {},
   "outputs": [],
   "source": [
    "raw_data = loadarff('phpgNaXZe (1).arff') #loads the file form the same folder, and the data is returned as a record array,\n",
    "df = pd.DataFrame(raw_data[0])            #Data structure also contains labeled axes (rows and columns).\n"
   ]
  },
  {
   "cell_type": "markdown",
   "id": "17a77456",
   "metadata": {},
   "source": [
    "renaming the columns to their actual name"
   ]
  },
  {
   "cell_type": "code",
   "execution_count": 581,
   "id": "2602001d",
   "metadata": {},
   "outputs": [
    {
     "data": {
      "text/html": [
       "<div>\n",
       "<style scoped>\n",
       "    .dataframe tbody tr th:only-of-type {\n",
       "        vertical-align: middle;\n",
       "    }\n",
       "\n",
       "    .dataframe tbody tr th {\n",
       "        vertical-align: top;\n",
       "    }\n",
       "\n",
       "    .dataframe thead th {\n",
       "        text-align: right;\n",
       "    }\n",
       "</style>\n",
       "<table border=\"1\" class=\"dataframe\">\n",
       "  <thead>\n",
       "    <tr style=\"text-align: right;\">\n",
       "      <th></th>\n",
       "      <th>V1</th>\n",
       "      <th>V2</th>\n",
       "      <th>V3</th>\n",
       "      <th>V4</th>\n",
       "      <th>V5</th>\n",
       "      <th>V6</th>\n",
       "      <th>V7</th>\n",
       "      <th>V8</th>\n",
       "      <th>V9</th>\n",
       "      <th>Class</th>\n",
       "    </tr>\n",
       "  </thead>\n",
       "  <tbody>\n",
       "    <tr>\n",
       "      <th>0</th>\n",
       "      <td>160.0</td>\n",
       "      <td>12.00</td>\n",
       "      <td>5.73</td>\n",
       "      <td>23.11</td>\n",
       "      <td>b'1'</td>\n",
       "      <td>49.0</td>\n",
       "      <td>25.30</td>\n",
       "      <td>97.20</td>\n",
       "      <td>52.0</td>\n",
       "      <td>b'2'</td>\n",
       "    </tr>\n",
       "    <tr>\n",
       "      <th>1</th>\n",
       "      <td>144.0</td>\n",
       "      <td>0.01</td>\n",
       "      <td>4.41</td>\n",
       "      <td>28.61</td>\n",
       "      <td>b'2'</td>\n",
       "      <td>55.0</td>\n",
       "      <td>28.87</td>\n",
       "      <td>2.06</td>\n",
       "      <td>63.0</td>\n",
       "      <td>b'2'</td>\n",
       "    </tr>\n",
       "    <tr>\n",
       "      <th>2</th>\n",
       "      <td>118.0</td>\n",
       "      <td>0.08</td>\n",
       "      <td>3.48</td>\n",
       "      <td>32.28</td>\n",
       "      <td>b'1'</td>\n",
       "      <td>52.0</td>\n",
       "      <td>29.14</td>\n",
       "      <td>3.81</td>\n",
       "      <td>46.0</td>\n",
       "      <td>b'1'</td>\n",
       "    </tr>\n",
       "    <tr>\n",
       "      <th>3</th>\n",
       "      <td>170.0</td>\n",
       "      <td>7.50</td>\n",
       "      <td>6.41</td>\n",
       "      <td>38.03</td>\n",
       "      <td>b'1'</td>\n",
       "      <td>51.0</td>\n",
       "      <td>31.99</td>\n",
       "      <td>24.26</td>\n",
       "      <td>58.0</td>\n",
       "      <td>b'2'</td>\n",
       "    </tr>\n",
       "    <tr>\n",
       "      <th>4</th>\n",
       "      <td>134.0</td>\n",
       "      <td>13.60</td>\n",
       "      <td>3.50</td>\n",
       "      <td>27.78</td>\n",
       "      <td>b'1'</td>\n",
       "      <td>60.0</td>\n",
       "      <td>25.99</td>\n",
       "      <td>57.34</td>\n",
       "      <td>49.0</td>\n",
       "      <td>b'2'</td>\n",
       "    </tr>\n",
       "  </tbody>\n",
       "</table>\n",
       "</div>"
      ],
      "text/plain": [
       "      V1     V2    V3     V4    V5    V6     V7     V8    V9 Class\n",
       "0  160.0  12.00  5.73  23.11  b'1'  49.0  25.30  97.20  52.0  b'2'\n",
       "1  144.0   0.01  4.41  28.61  b'2'  55.0  28.87   2.06  63.0  b'2'\n",
       "2  118.0   0.08  3.48  32.28  b'1'  52.0  29.14   3.81  46.0  b'1'\n",
       "3  170.0   7.50  6.41  38.03  b'1'  51.0  31.99  24.26  58.0  b'2'\n",
       "4  134.0  13.60  3.50  27.78  b'1'  60.0  25.99  57.34  49.0  b'2'"
      ]
     },
     "execution_count": 581,
     "metadata": {},
     "output_type": "execute_result"
    }
   ],
   "source": [
    "df.head() # at first glance, we notice we don`t have the column names  "
   ]
  },
  {
   "cell_type": "markdown",
   "id": "5653a36b",
   "metadata": {},
   "source": [
    "                                                                DATA PREPARATION"
   ]
  },
  {
   "cell_type": "markdown",
   "id": "2d0d9488",
   "metadata": {},
   "source": [
    "replacing the column names with their actual descriptive name "
   ]
  },
  {
   "cell_type": "code",
   "execution_count": 582,
   "id": "b629ae26-a761-4717-abc8-41efd0a188e0",
   "metadata": {},
   "outputs": [
    {
     "data": {
      "text/html": [
       "<div>\n",
       "<style scoped>\n",
       "    .dataframe tbody tr th:only-of-type {\n",
       "        vertical-align: middle;\n",
       "    }\n",
       "\n",
       "    .dataframe tbody tr th {\n",
       "        vertical-align: top;\n",
       "    }\n",
       "\n",
       "    .dataframe thead th {\n",
       "        text-align: right;\n",
       "    }\n",
       "</style>\n",
       "<table border=\"1\" class=\"dataframe\">\n",
       "  <thead>\n",
       "    <tr style=\"text-align: right;\">\n",
       "      <th></th>\n",
       "      <th>sbp</th>\n",
       "      <th>tobacco</th>\n",
       "      <th>ldl</th>\n",
       "      <th>adiposity</th>\n",
       "      <th>famhist</th>\n",
       "      <th>type</th>\n",
       "      <th>obesity</th>\n",
       "      <th>alcohol</th>\n",
       "      <th>age</th>\n",
       "      <th>chd</th>\n",
       "    </tr>\n",
       "  </thead>\n",
       "  <tbody>\n",
       "    <tr>\n",
       "      <th>0</th>\n",
       "      <td>160.0</td>\n",
       "      <td>12.00</td>\n",
       "      <td>5.73</td>\n",
       "      <td>23.11</td>\n",
       "      <td>b'1'</td>\n",
       "      <td>49.0</td>\n",
       "      <td>25.30</td>\n",
       "      <td>97.20</td>\n",
       "      <td>52.0</td>\n",
       "      <td>b'2'</td>\n",
       "    </tr>\n",
       "    <tr>\n",
       "      <th>1</th>\n",
       "      <td>144.0</td>\n",
       "      <td>0.01</td>\n",
       "      <td>4.41</td>\n",
       "      <td>28.61</td>\n",
       "      <td>b'2'</td>\n",
       "      <td>55.0</td>\n",
       "      <td>28.87</td>\n",
       "      <td>2.06</td>\n",
       "      <td>63.0</td>\n",
       "      <td>b'2'</td>\n",
       "    </tr>\n",
       "    <tr>\n",
       "      <th>2</th>\n",
       "      <td>118.0</td>\n",
       "      <td>0.08</td>\n",
       "      <td>3.48</td>\n",
       "      <td>32.28</td>\n",
       "      <td>b'1'</td>\n",
       "      <td>52.0</td>\n",
       "      <td>29.14</td>\n",
       "      <td>3.81</td>\n",
       "      <td>46.0</td>\n",
       "      <td>b'1'</td>\n",
       "    </tr>\n",
       "    <tr>\n",
       "      <th>3</th>\n",
       "      <td>170.0</td>\n",
       "      <td>7.50</td>\n",
       "      <td>6.41</td>\n",
       "      <td>38.03</td>\n",
       "      <td>b'1'</td>\n",
       "      <td>51.0</td>\n",
       "      <td>31.99</td>\n",
       "      <td>24.26</td>\n",
       "      <td>58.0</td>\n",
       "      <td>b'2'</td>\n",
       "    </tr>\n",
       "    <tr>\n",
       "      <th>4</th>\n",
       "      <td>134.0</td>\n",
       "      <td>13.60</td>\n",
       "      <td>3.50</td>\n",
       "      <td>27.78</td>\n",
       "      <td>b'1'</td>\n",
       "      <td>60.0</td>\n",
       "      <td>25.99</td>\n",
       "      <td>57.34</td>\n",
       "      <td>49.0</td>\n",
       "      <td>b'2'</td>\n",
       "    </tr>\n",
       "  </tbody>\n",
       "</table>\n",
       "</div>"
      ],
      "text/plain": [
       "     sbp  tobacco   ldl  adiposity famhist  type  obesity  alcohol   age   chd\n",
       "0  160.0    12.00  5.73      23.11    b'1'  49.0    25.30    97.20  52.0  b'2'\n",
       "1  144.0     0.01  4.41      28.61    b'2'  55.0    28.87     2.06  63.0  b'2'\n",
       "2  118.0     0.08  3.48      32.28    b'1'  52.0    29.14     3.81  46.0  b'1'\n",
       "3  170.0     7.50  6.41      38.03    b'1'  51.0    31.99    24.26  58.0  b'2'\n",
       "4  134.0    13.60  3.50      27.78    b'1'  60.0    25.99    57.34  49.0  b'2'"
      ]
     },
     "execution_count": 582,
     "metadata": {},
     "output_type": "execute_result"
    }
   ],
   "source": [
    "df.rename(columns={'V1': 'sbp', 'V2': 'tobacco', 'V3': 'ldl', 'V4': 'adiposity', 'V5': 'famhist', 'V6': 'type', 'V7': 'obesity', 'V8': 'alcohol', 'V9': 'age','Class':'chd'}, inplace=True)\n",
    "df.head()"
   ]
  },
  {
   "cell_type": "code",
   "execution_count": 583,
   "id": "ddd52c3e",
   "metadata": {},
   "outputs": [
    {
     "data": {
      "text/plain": [
       "sbp          0\n",
       "tobacco      0\n",
       "ldl          0\n",
       "adiposity    0\n",
       "famhist      0\n",
       "type         0\n",
       "obesity      0\n",
       "alcohol      0\n",
       "age          0\n",
       "chd          0\n",
       "dtype: int64"
      ]
     },
     "execution_count": 583,
     "metadata": {},
     "output_type": "execute_result"
    }
   ],
   "source": [
    "df.isnull().sum() # checking if theres null values in the data set\n",
    "# from the output below we have no missing/ empty data "
   ]
  },
  {
   "cell_type": "code",
   "execution_count": 584,
   "id": "90586c07",
   "metadata": {},
   "outputs": [],
   "source": [
    "# an array with the columns names, to be used later for test train and normalising the data \n",
    "df_col = ['sbp','tobacco','ldl','adiposity','famhist','type','obesity','alcohol','age']"
   ]
  },
  {
   "cell_type": "markdown",
   "id": "8007c4ee",
   "metadata": {},
   "source": [
    "                                                            NORMALISATION"
   ]
  },
  {
   "cell_type": "code",
   "execution_count": 585,
   "id": "d9d5bade-a4bd-40b1-8822-3f250c0c50d0",
   "metadata": {},
   "outputs": [
    {
     "data": {
      "text/html": [
       "<div>\n",
       "<style scoped>\n",
       "    .dataframe tbody tr th:only-of-type {\n",
       "        vertical-align: middle;\n",
       "    }\n",
       "\n",
       "    .dataframe tbody tr th {\n",
       "        vertical-align: top;\n",
       "    }\n",
       "\n",
       "    .dataframe thead th {\n",
       "        text-align: right;\n",
       "    }\n",
       "</style>\n",
       "<table border=\"1\" class=\"dataframe\">\n",
       "  <thead>\n",
       "    <tr style=\"text-align: right;\">\n",
       "      <th></th>\n",
       "      <th>sbp</th>\n",
       "      <th>tobacco</th>\n",
       "      <th>ldl</th>\n",
       "      <th>adiposity</th>\n",
       "      <th>famhist</th>\n",
       "      <th>type</th>\n",
       "      <th>obesity</th>\n",
       "      <th>alcohol</th>\n",
       "      <th>age</th>\n",
       "      <th>chd</th>\n",
       "    </tr>\n",
       "  </thead>\n",
       "  <tbody>\n",
       "    <tr>\n",
       "      <th>0</th>\n",
       "      <td>0.504274</td>\n",
       "      <td>0.384615</td>\n",
       "      <td>0.331010</td>\n",
       "      <td>0.457902</td>\n",
       "      <td>0.0</td>\n",
       "      <td>0.553846</td>\n",
       "      <td>0.332497</td>\n",
       "      <td>0.660371</td>\n",
       "      <td>0.755102</td>\n",
       "      <td>1</td>\n",
       "    </tr>\n",
       "    <tr>\n",
       "      <th>1</th>\n",
       "      <td>0.367521</td>\n",
       "      <td>0.000321</td>\n",
       "      <td>0.239024</td>\n",
       "      <td>0.611748</td>\n",
       "      <td>1.0</td>\n",
       "      <td>0.646154</td>\n",
       "      <td>0.444479</td>\n",
       "      <td>0.013996</td>\n",
       "      <td>0.979592</td>\n",
       "      <td>1</td>\n",
       "    </tr>\n",
       "    <tr>\n",
       "      <th>2</th>\n",
       "      <td>0.145299</td>\n",
       "      <td>0.002564</td>\n",
       "      <td>0.174216</td>\n",
       "      <td>0.714406</td>\n",
       "      <td>0.0</td>\n",
       "      <td>0.600000</td>\n",
       "      <td>0.452949</td>\n",
       "      <td>0.025885</td>\n",
       "      <td>0.632653</td>\n",
       "      <td>0</td>\n",
       "    </tr>\n",
       "    <tr>\n",
       "      <th>3</th>\n",
       "      <td>0.589744</td>\n",
       "      <td>0.240385</td>\n",
       "      <td>0.378397</td>\n",
       "      <td>0.875245</td>\n",
       "      <td>0.0</td>\n",
       "      <td>0.584615</td>\n",
       "      <td>0.542346</td>\n",
       "      <td>0.164821</td>\n",
       "      <td>0.877551</td>\n",
       "      <td>1</td>\n",
       "    </tr>\n",
       "    <tr>\n",
       "      <th>4</th>\n",
       "      <td>0.282051</td>\n",
       "      <td>0.435897</td>\n",
       "      <td>0.175610</td>\n",
       "      <td>0.588531</td>\n",
       "      <td>0.0</td>\n",
       "      <td>0.723077</td>\n",
       "      <td>0.354141</td>\n",
       "      <td>0.389565</td>\n",
       "      <td>0.693878</td>\n",
       "      <td>1</td>\n",
       "    </tr>\n",
       "  </tbody>\n",
       "</table>\n",
       "</div>"
      ],
      "text/plain": [
       "        sbp   tobacco       ldl  adiposity  famhist      type   obesity  \\\n",
       "0  0.504274  0.384615  0.331010   0.457902      0.0  0.553846  0.332497   \n",
       "1  0.367521  0.000321  0.239024   0.611748      1.0  0.646154  0.444479   \n",
       "2  0.145299  0.002564  0.174216   0.714406      0.0  0.600000  0.452949   \n",
       "3  0.589744  0.240385  0.378397   0.875245      0.0  0.584615  0.542346   \n",
       "4  0.282051  0.435897  0.175610   0.588531      0.0  0.723077  0.354141   \n",
       "\n",
       "    alcohol       age  chd  \n",
       "0  0.660371  0.755102    1  \n",
       "1  0.013996  0.979592    1  \n",
       "2  0.025885  0.632653    0  \n",
       "3  0.164821  0.877551    1  \n",
       "4  0.389565  0.693878    1  "
      ]
     },
     "execution_count": 585,
     "metadata": {},
     "output_type": "execute_result"
    }
   ],
   "source": [
    "Lbl_En = LabelEncoder()   \n",
    "scale = MinMaxScaler()\n",
    "#feature_range =(0,100)\n",
    "\n",
    "# makes everything the same integer/ float  for the purposes of training and testing \n",
    "df['famhist'] = Lbl_En.fit_transform(df['famhist']) # makes the famhist and chd column from b.0 or b.1 to 0 and 1 , so strings or objects to integers \n",
    "df['chd']     = Lbl_En.fit_transform(df['chd'])\n",
    "\n",
    "df[df_col] = scale.fit_transform(df[df_col]) #normalises the values in the columns betwen 0 and 1 \n",
    "\n",
    "#df['sbp'] = scale.fit_transform(df['sbp'].values.reshape(-1,1))\n",
    "\n",
    "#checking if we have 0 and 1`s at famhist and chd and and the rest of the data is normalised\n",
    "df.head()\n"
   ]
  },
  {
   "cell_type": "markdown",
   "id": "4e6f42d3",
   "metadata": {},
   "source": [
    "Normalization is the process of scaling individual samples to have unit norm."
   ]
  },
  {
   "cell_type": "code",
   "execution_count": 586,
   "id": "00720627",
   "metadata": {},
   "outputs": [
    {
     "name": "stdout",
     "output_type": "stream",
     "text": [
      "<class 'pandas.core.frame.DataFrame'>\n",
      "RangeIndex: 462 entries, 0 to 461\n",
      "Data columns (total 10 columns):\n",
      " #   Column     Non-Null Count  Dtype  \n",
      "---  ------     --------------  -----  \n",
      " 0   sbp        462 non-null    float64\n",
      " 1   tobacco    462 non-null    float64\n",
      " 2   ldl        462 non-null    float64\n",
      " 3   adiposity  462 non-null    float64\n",
      " 4   famhist    462 non-null    float64\n",
      " 5   type       462 non-null    float64\n",
      " 6   obesity    462 non-null    float64\n",
      " 7   alcohol    462 non-null    float64\n",
      " 8   age        462 non-null    float64\n",
      " 9   chd        462 non-null    int32  \n",
      "dtypes: float64(9), int32(1)\n",
      "memory usage: 34.4 KB\n"
     ]
    }
   ],
   "source": [
    "df.info()"
   ]
  },
  {
   "cell_type": "code",
   "execution_count": 587,
   "id": "2a26fd3d-fed4-43fd-8e42-c3b8a21c0f20",
   "metadata": {},
   "outputs": [
    {
     "data": {
      "text/html": [
       "<div>\n",
       "<style scoped>\n",
       "    .dataframe tbody tr th:only-of-type {\n",
       "        vertical-align: middle;\n",
       "    }\n",
       "\n",
       "    .dataframe tbody tr th {\n",
       "        vertical-align: top;\n",
       "    }\n",
       "\n",
       "    .dataframe thead th {\n",
       "        text-align: right;\n",
       "    }\n",
       "</style>\n",
       "<table border=\"1\" class=\"dataframe\">\n",
       "  <thead>\n",
       "    <tr style=\"text-align: right;\">\n",
       "      <th></th>\n",
       "      <th>sbp</th>\n",
       "      <th>tobacco</th>\n",
       "      <th>ldl</th>\n",
       "      <th>adiposity</th>\n",
       "      <th>famhist</th>\n",
       "      <th>type</th>\n",
       "      <th>obesity</th>\n",
       "      <th>alcohol</th>\n",
       "      <th>age</th>\n",
       "      <th>chd</th>\n",
       "    </tr>\n",
       "  </thead>\n",
       "  <tbody>\n",
       "    <tr>\n",
       "      <th>count</th>\n",
       "      <td>462.000000</td>\n",
       "      <td>462.000000</td>\n",
       "      <td>462.000000</td>\n",
       "      <td>462.000000</td>\n",
       "      <td>462.000000</td>\n",
       "      <td>462.000000</td>\n",
       "      <td>462.000000</td>\n",
       "      <td>462.000000</td>\n",
       "      <td>462.000000</td>\n",
       "      <td>462.000000</td>\n",
       "    </tr>\n",
       "    <tr>\n",
       "      <th>mean</th>\n",
       "      <td>0.319033</td>\n",
       "      <td>0.116527</td>\n",
       "      <td>0.262044</td>\n",
       "      <td>0.522146</td>\n",
       "      <td>0.584416</td>\n",
       "      <td>0.616983</td>\n",
       "      <td>0.355838</td>\n",
       "      <td>0.115799</td>\n",
       "      <td>0.567674</td>\n",
       "      <td>0.346320</td>\n",
       "    </tr>\n",
       "    <tr>\n",
       "      <th>std</th>\n",
       "      <td>0.175182</td>\n",
       "      <td>0.147212</td>\n",
       "      <td>0.144314</td>\n",
       "      <td>0.217642</td>\n",
       "      <td>0.493357</td>\n",
       "      <td>0.151039</td>\n",
       "      <td>0.132173</td>\n",
       "      <td>0.166323</td>\n",
       "      <td>0.298142</td>\n",
       "      <td>0.476313</td>\n",
       "    </tr>\n",
       "    <tr>\n",
       "      <th>min</th>\n",
       "      <td>0.000000</td>\n",
       "      <td>0.000000</td>\n",
       "      <td>0.000000</td>\n",
       "      <td>0.000000</td>\n",
       "      <td>0.000000</td>\n",
       "      <td>0.000000</td>\n",
       "      <td>0.000000</td>\n",
       "      <td>0.000000</td>\n",
       "      <td>0.000000</td>\n",
       "      <td>0.000000</td>\n",
       "    </tr>\n",
       "    <tr>\n",
       "      <th>25%</th>\n",
       "      <td>0.196581</td>\n",
       "      <td>0.001683</td>\n",
       "      <td>0.160453</td>\n",
       "      <td>0.364615</td>\n",
       "      <td>0.000000</td>\n",
       "      <td>0.523077</td>\n",
       "      <td>0.259881</td>\n",
       "      <td>0.003465</td>\n",
       "      <td>0.326531</td>\n",
       "      <td>0.000000</td>\n",
       "    </tr>\n",
       "    <tr>\n",
       "      <th>50%</th>\n",
       "      <td>0.282051</td>\n",
       "      <td>0.064103</td>\n",
       "      <td>0.234146</td>\n",
       "      <td>0.541958</td>\n",
       "      <td>1.000000</td>\n",
       "      <td>0.615385</td>\n",
       "      <td>0.348338</td>\n",
       "      <td>0.051022</td>\n",
       "      <td>0.612245</td>\n",
       "      <td>0.000000</td>\n",
       "    </tr>\n",
       "    <tr>\n",
       "      <th>75%</th>\n",
       "      <td>0.401709</td>\n",
       "      <td>0.176282</td>\n",
       "      <td>0.335192</td>\n",
       "      <td>0.684965</td>\n",
       "      <td>1.000000</td>\n",
       "      <td>0.723077</td>\n",
       "      <td>0.432795</td>\n",
       "      <td>0.162324</td>\n",
       "      <td>0.816327</td>\n",
       "      <td>1.000000</td>\n",
       "    </tr>\n",
       "    <tr>\n",
       "      <th>max</th>\n",
       "      <td>1.000000</td>\n",
       "      <td>1.000000</td>\n",
       "      <td>1.000000</td>\n",
       "      <td>1.000000</td>\n",
       "      <td>1.000000</td>\n",
       "      <td>1.000000</td>\n",
       "      <td>1.000000</td>\n",
       "      <td>1.000000</td>\n",
       "      <td>1.000000</td>\n",
       "      <td>1.000000</td>\n",
       "    </tr>\n",
       "  </tbody>\n",
       "</table>\n",
       "</div>"
      ],
      "text/plain": [
       "              sbp     tobacco         ldl   adiposity     famhist        type  \\\n",
       "count  462.000000  462.000000  462.000000  462.000000  462.000000  462.000000   \n",
       "mean     0.319033    0.116527    0.262044    0.522146    0.584416    0.616983   \n",
       "std      0.175182    0.147212    0.144314    0.217642    0.493357    0.151039   \n",
       "min      0.000000    0.000000    0.000000    0.000000    0.000000    0.000000   \n",
       "25%      0.196581    0.001683    0.160453    0.364615    0.000000    0.523077   \n",
       "50%      0.282051    0.064103    0.234146    0.541958    1.000000    0.615385   \n",
       "75%      0.401709    0.176282    0.335192    0.684965    1.000000    0.723077   \n",
       "max      1.000000    1.000000    1.000000    1.000000    1.000000    1.000000   \n",
       "\n",
       "          obesity     alcohol         age         chd  \n",
       "count  462.000000  462.000000  462.000000  462.000000  \n",
       "mean     0.355838    0.115799    0.567674    0.346320  \n",
       "std      0.132173    0.166323    0.298142    0.476313  \n",
       "min      0.000000    0.000000    0.000000    0.000000  \n",
       "25%      0.259881    0.003465    0.326531    0.000000  \n",
       "50%      0.348338    0.051022    0.612245    0.000000  \n",
       "75%      0.432795    0.162324    0.816327    1.000000  \n",
       "max      1.000000    1.000000    1.000000    1.000000  "
      ]
     },
     "execution_count": 587,
     "metadata": {},
     "output_type": "execute_result"
    }
   ],
   "source": [
    "df.describe()"
   ]
  },
  {
   "cell_type": "markdown",
   "id": "21ad0a3f",
   "metadata": {},
   "source": [
    "                                                                    TEST & TRAIN "
   ]
  },
  {
   "cell_type": "code",
   "execution_count": 588,
   "id": "8da53e47-4ec5-4f0f-8460-508ce109f714",
   "metadata": {},
   "outputs": [],
   "source": [
    "#Before implementing any classification algorithm, we will divide our dataset into training data and test data.\n",
    "#I have used 70% of the data for training and the remaining 30% will be used for testing.\n",
    "\n",
    "X_train, X_test, y_train, y_test = train_test_split(df[df_col], df['chd'], test_size=0.30, random_state=0)"
   ]
  },
  {
   "cell_type": "code",
   "execution_count": 589,
   "id": "9e01eee6-4e70-4bbd-8a56-bcb63ec373c9",
   "metadata": {},
   "outputs": [
    {
     "name": "stdout",
     "output_type": "stream",
     "text": [
      "Training Features Shape: (323, 9)\n",
      "Training Labels Shape: (323,)\n",
      "Testing Features Shape: (139, 9)\n",
      "Testing Labels Shape: (139,)\n"
     ]
    }
   ],
   "source": [
    "                                                            #checks\n",
    "print('Training Features Shape:', X_train.shape)\n",
    "print('Training Labels Shape:', y_train.shape)\n",
    "print('Testing Features Shape:', X_test.shape)\n",
    "print('Testing Labels Shape:', y_test.shape)"
   ]
  },
  {
   "cell_type": "markdown",
   "id": "016115a6",
   "metadata": {},
   "source": [
    "                                                                        Baseline precision"
   ]
  },
  {
   "cell_type": "code",
   "execution_count": null,
   "metadata": {},
   "outputs": [],
   "source": []
  },
  {
   "cell_type": "code",
   "execution_count": null,
   "metadata": {},
   "outputs": [],
   "source": []
  },
  {
   "cell_type": "code",
   "execution_count": 590,
   "id": "0edc6e25",
   "metadata": {},
   "outputs": [
    {
     "name": "stdout",
     "output_type": "stream",
     "text": [
      "the Baseline precision is: 35.0%\n"
     ]
    }
   ],
   "source": [
    "# precision TP / (TP +FP)\n",
    "# Recall TP / (TP + FN)\n",
    "\n",
    "#keeps the porobabilities for the positives outcome only \n",
    "probs = y_test[:1]\n",
    "\n",
    "probability = [probs] *len(y_test)\n",
    "\n",
    "Baseline_Precision = precision_score(y_test,probability) # returns 1d array \n",
    "\n",
    "print(f'the Baseline precision is: {round(Baseline_Precision * 100, 0)}%' )\n"
   ]
  },
  {
   "cell_type": "markdown",
   "id": "0d9ca1fb",
   "metadata": {},
   "source": [
    "                                                                     BASELINE ACCURACY"
   ]
  },
  {
   "cell_type": "code",
   "execution_count": 591,
   "id": "84c1db45",
   "metadata": {},
   "outputs": [
    {
     "name": "stdout",
     "output_type": "stream",
     "text": [
      "the base line accuracy is: 65.0%\n"
     ]
    }
   ],
   "source": [
    "import statistics\n",
    "\n",
    "guess = statistics.mode(df['chd'])\n",
    "prediction = [guess] *len(y_test)\n",
    "\n",
    "Baseline_Accuracy = accuracy_score(y_test , prediction)\n",
    "print(f'the base line accuracy is: {round(Baseline_Accuracy*100, 0)}%' )\n",
    "#learned from [1]\n",
    "#guess #the item that acures the most in the dataset,basically here without using any model at all we are going to predict if the person has the diesese or not\n"
   ]
  },
  {
   "cell_type": "markdown",
   "id": "f74a2b5b",
   "metadata": {},
   "source": [
    "                                                                    K-NEAREST NEIGHBOUR"
   ]
  },
  {
   "cell_type": "code",
   "execution_count": 592,
   "id": "5262b02c-c072-431b-ac39-1691d69448c1",
   "metadata": {},
   "outputs": [
    {
     "data": {
      "text/plain": [
       "KNeighborsClassifier(leaf_size=60, n_jobs=-1, n_neighbors=11)"
      ]
     },
     "execution_count": 592,
     "metadata": {},
     "output_type": "execute_result"
    }
   ],
   "source": [
    "knn = KNeighborsClassifier(n_neighbors = 11, n_jobs = -1, leaf_size = 60, algorithm = 'auto')\n",
    "knn.fit(X_train,y_train)"
   ]
  },
  {
   "cell_type": "code",
   "execution_count": 593,
   "id": "78e6ef26-3f53-48e0-bd90-4ff45ede1fdb",
   "metadata": {},
   "outputs": [
    {
     "data": {
      "text/plain": [
       "array([1, 0, 0, 1, 0, 1, 0, 0, 0, 1, 0, 1, 1, 0, 1, 0, 1, 0, 1, 0, 1, 0,\n",
       "       0, 0, 0, 0, 0, 0, 0, 0, 0, 0, 0, 0, 0, 0, 0, 1, 1, 0, 1, 0, 0, 0,\n",
       "       0, 0, 0, 0, 0, 1, 0, 0, 0, 0, 0, 0, 1, 0, 0, 0, 0, 0, 0, 0, 0, 0,\n",
       "       0, 0, 1, 0, 1, 1, 0, 1, 1, 0, 0, 0, 0, 0, 0, 0, 0, 0, 1, 0, 0, 0,\n",
       "       0, 0, 0, 0, 0, 0, 0, 0, 0, 0, 0, 0, 0, 0, 0, 0, 0, 1, 0, 0, 0, 1,\n",
       "       0, 0, 0, 1, 1, 1, 1, 0, 1, 0, 1, 1, 0, 0, 0, 0, 0, 0, 1, 1, 0, 0,\n",
       "       0, 0, 1, 0, 0, 0, 0])"
      ]
     },
     "execution_count": 593,
     "metadata": {},
     "output_type": "execute_result"
    }
   ],
   "source": [
    "y_pred = knn.predict(X_test)\n",
    "y_pred"
   ]
  },
  {
   "cell_type": "code",
   "execution_count": 594,
   "id": "7fc7e7d1-c30a-4a4a-a2a5-95e7271e5435",
   "metadata": {},
   "outputs": [
    {
     "data": {
      "text/plain": [
       "Text(33.0, 0.5, 'Truth')"
      ]
     },
     "execution_count": 594,
     "metadata": {},
     "output_type": "execute_result"
    },
    {
     "data": {
      "image/png": "[encoded data removed]",
      "text/plain": [
       "<Figure size 432x288 with 2 Axes>"
      ]
     },
     "metadata": {
      "needs_background": "light"
     },
     "output_type": "display_data"
    }
   ],
   "source": [
    "cm_knn = tf.math.confusion_matrix(labels=y_test, predictions=y_pred)\n",
    "\n",
    "plt.Figure(figsize=(9,7))\n",
    "sn.heatmap(cm_knn,annot =True,fmt = 'd')\n",
    "plt.xlabel('Predicted')\n",
    "plt.ylabel('Truth')"
   ]
  },
  {
   "cell_type": "code",
   "execution_count": 595,
   "id": "03809cc2-3749-4475-9f4a-3233029fcb57",
   "metadata": {},
   "outputs": [
    {
     "name": "stdout",
     "output_type": "stream",
     "text": [
      "the K-NN accuracy is: 71.0%\n"
     ]
    }
   ],
   "source": [
    "accuracy_of_KNN = accuracy_score(y_test, y_pred)\n",
    "print(f'the K-NN accuracy is: {round(accuracy_of_KNN * 100, 0)}%' )"
   ]
  },
  {
   "cell_type": "code",
   "execution_count": 596,
   "id": "e21e25dd",
   "metadata": {},
   "outputs": [
    {
     "data": {
      "text/plain": [
       "(<tf.Tensor: shape=(), dtype=float64, numpy=0.8571428571428571>,\n",
       " <tf.Tensor: shape=(), dtype=float64, numpy=0.7959183673469388>)"
      ]
     },
     "execution_count": 596,
     "metadata": {},
     "output_type": "execute_result"
    }
   ],
   "source": [
    "#recall and precision\n",
    "recall_of_knn = cm_knn[0][0]/(cm_knn[0][0] + cm_knn[0][1])\n",
    "precision_of_knn = cm_knn[0][0]/(cm_knn[0][0]+cm_knn[1][1])\n",
    "recall_of_knn,precision_of_knn"
   ]
  },
  {
   "cell_type": "markdown",
   "id": "8baab0a6",
   "metadata": {},
   "source": [
    "                                                                     ARTIFICIAL NEURAL NETWORKS"
   ]
  },
  {
   "cell_type": "code",
   "execution_count": 597,
   "id": "c50a1660-74da-4765-be24-6114f782aabd",
   "metadata": {},
   "outputs": [],
   "source": [
    "#ANN  \n",
    "ann = MLPClassifier(max_iter=3000)\n",
    "\n",
    "#Parameters\n",
    "parameters = {'solver': ['lbfgs'],\n",
    "             'alpha':[1e-4],\n",
    "             'hidden_layer_sizes':(9,5,5,2),   # 9 input, 5-5 neuron in 2 layers,1 output layer\n",
    "             'random_state': [1],\n",
    "             'max_iter':[1700],\n",
    "             'early_stopping':[False]}"
   ]
  },
  {
   "cell_type": "code",
   "execution_count": 598,
   "id": "4baff158-b866-4bb5-b5f0-d0e9935ae0f9",
   "metadata": {},
   "outputs": [],
   "source": [
    "# Type of scoring to compare parameter combos \n",
    "scorer = make_scorer(accuracy_score)\n",
    "\n",
    "# Run grid search \n",
    "grid_obj = GridSearchCV(ann, parameters, scoring=scorer,cv = 5)\n",
    "\n",
    "grid_obj = grid_obj.fit(X_train, y_train)\n",
    "\n",
    "# Pick the best combination of parameters\n",
    "ann = grid_obj.best_estimator_"
   ]
  },
  {
   "cell_type": "code",
   "execution_count": 599,
   "id": "cd012c0d-39ea-4b0f-b0f4-02aacba190ac",
   "metadata": {},
   "outputs": [
    {
     "data": {
      "text/plain": [
       "MLPClassifier(hidden_layer_sizes=2, max_iter=1700, random_state=1,\n",
       "              solver='lbfgs')"
      ]
     },
     "execution_count": 599,
     "metadata": {},
     "output_type": "execute_result"
    }
   ],
   "source": [
    "ann.fit(X_train,y_train)"
   ]
  },
  {
   "cell_type": "code",
   "execution_count": 600,
   "id": "6d777277-ed42-4235-ae83-660a799e899d",
   "metadata": {},
   "outputs": [
    {
     "data": {
      "text/plain": [
       "array([1, 0, 0, 1, 0, 1, 0, 0, 0, 1, 0, 1, 0, 0, 0, 1, 1, 0, 1, 0, 1, 0,\n",
       "       0, 0, 0, 0, 1, 0, 0, 1, 0, 0, 0, 0, 0, 0, 0, 1, 1, 0, 0, 0, 0, 0,\n",
       "       0, 0, 1, 0, 0, 1, 0, 0, 1, 0, 0, 0, 1, 0, 0, 0, 0, 0, 0, 0, 0, 0,\n",
       "       0, 0, 1, 0, 0, 1, 0, 0, 1, 0, 0, 1, 0, 0, 0, 0, 0, 1, 1, 0, 1, 0,\n",
       "       0, 0, 0, 0, 0, 0, 0, 1, 0, 0, 0, 0, 0, 0, 0, 0, 0, 1, 1, 0, 0, 1,\n",
       "       0, 0, 0, 1, 1, 0, 1, 1, 1, 0, 1, 0, 0, 0, 0, 0, 1, 0, 0, 1, 0, 0,\n",
       "       0, 0, 1, 0, 0, 0, 0])"
      ]
     },
     "execution_count": 600,
     "metadata": {},
     "output_type": "execute_result"
    }
   ],
   "source": [
    "y_pred_ann = ann.predict(X_test)\n",
    "y_pred_ann"
   ]
  },
  {
   "cell_type": "code",
   "execution_count": 601,
   "id": "755ad178-7a6e-426c-b0e0-11ce2d03c337",
   "metadata": {},
   "outputs": [
    {
     "data": {
      "text/plain": [
       "Text(33.0, 0.5, 'Truth')"
      ]
     },
     "execution_count": 601,
     "metadata": {},
     "output_type": "execute_result"
    },
    {
     "data": {
      "image/png": "[encoded data removed]",
      "text/plain": [
       "<Figure size 432x288 with 2 Axes>"
      ]
     },
     "metadata": {
      "needs_background": "light"
     },
     "output_type": "display_data"
    }
   ],
   "source": [
    "# Making the Confusion Matrix\n",
    "cm_ann = tf.math.confusion_matrix(labels=y_test, predictions=y_pred_ann)\n",
    "\n",
    "plt.Figure(figsize=(9,7))\n",
    "sn.heatmap(cm_ann,annot =True,fmt = 'd')\n",
    "plt.xlabel('Predicted')\n",
    "plt.ylabel('Truth')"
   ]
  },
  {
   "cell_type": "code",
   "execution_count": 602,
   "id": "619ba885-542f-48e4-b4dd-1e70fc70ac0c",
   "metadata": {},
   "outputs": [
    {
     "name": "stdout",
     "output_type": "stream",
     "text": [
      "the ANN accuracy is: 73.0%\n"
     ]
    }
   ],
   "source": [
    "accuracy_of_ANN = accuracy_score(y_test, y_pred_ann)\n",
    "print(f'the ANN accuracy is: {round( accuracy_of_ANN * 100, 0)}%' )"
   ]
  },
  {
   "cell_type": "code",
   "execution_count": 603,
   "metadata": {},
   "outputs": [
    {
     "data": {
      "text/plain": [
       "(<tf.Tensor: shape=(), dtype=float64, numpy=0.8571428571428571>,\n",
       " <tf.Tensor: shape=(), dtype=float64, numpy=0.7647058823529411>)"
      ]
     },
     "execution_count": 603,
     "metadata": {},
     "output_type": "execute_result"
    }
   ],
   "source": [
    "recall_ann = cm_ann[0][0]/(cm_ann[0][0] + cm_ann[0][1])\n",
    "precision_ann = cm_ann[0][0]/(cm_ann[0][0]+cm_ann[1][1])\n",
    "recall_ann,precision_ann"
   ]
  },
  {
   "cell_type": "markdown",
   "id": "296cf632",
   "metadata": {},
   "source": [
    "Zoomed view having lower y limit 50, higher y limit 90, for better view"
   ]
  },
  {
   "cell_type": "code",
   "execution_count": 649,
   "id": "a525523f",
   "metadata": {},
   "outputs": [
    {
     "name": "stdout",
     "output_type": "stream",
     "text": [
      "Epoch 1/180\n",
      "11/11 [==============================] - 1s 4ms/step - loss: 0.6909 - accuracy: 0.6192\n",
      "Epoch 2/180\n",
      "11/11 [==============================] - 0s 3ms/step - loss: 0.6855 - accuracy: 0.6254\n",
      "Epoch 3/180\n",
      "11/11 [==============================] - 0s 4ms/step - loss: 0.6799 - accuracy: 0.6316\n",
      "Epoch 4/180\n",
      "11/11 [==============================] - 0s 3ms/step - loss: 0.6736 - accuracy: 0.6471\n",
      "Epoch 5/180\n",
      "11/11 [==============================] - 0s 4ms/step - loss: 0.6675 - accuracy: 0.6471\n",
      "Epoch 6/180\n",
      "11/11 [==============================] - 0s 3ms/step - loss: 0.6604 - accuracy: 0.6502\n",
      "Epoch 7/180\n",
      "11/11 [==============================] - 0s 3ms/step - loss: 0.6525 - accuracy: 0.6533\n",
      "Epoch 8/180\n",
      "11/11 [==============================] - 0s 2ms/step - loss: 0.6447 - accuracy: 0.6533\n",
      "Epoch 9/180\n",
      "11/11 [==============================] - 0s 3ms/step - loss: 0.6368 - accuracy: 0.6533\n",
      "Epoch 10/180\n",
      "11/11 [==============================] - 0s 4ms/step - loss: 0.6300 - accuracy: 0.6533\n",
      "Epoch 11/180\n",
      "11/11 [==============================] - 0s 2ms/step - loss: 0.6243 - accuracy: 0.6533\n",
      "Epoch 12/180\n",
      "11/11 [==============================] - 0s 3ms/step - loss: 0.6200 - accuracy: 0.6533\n",
      "Epoch 13/180\n",
      "11/11 [==============================] - 0s 4ms/step - loss: 0.6170 - accuracy: 0.6533\n",
      "Epoch 14/180\n",
      "11/11 [==============================] - 0s 4ms/step - loss: 0.6139 - accuracy: 0.6533\n",
      "Epoch 15/180\n",
      "11/11 [==============================] - 0s 4ms/step - loss: 0.6118 - accuracy: 0.6533\n",
      "Epoch 16/180\n",
      "11/11 [==============================] - 0s 3ms/step - loss: 0.6094 - accuracy: 0.6533\n",
      "Epoch 17/180\n",
      "11/11 [==============================] - 0s 4ms/step - loss: 0.6066 - accuracy: 0.6533\n",
      "Epoch 18/180\n",
      "11/11 [==============================] - 0s 4ms/step - loss: 0.6036 - accuracy: 0.6533\n",
      "Epoch 19/180\n",
      "11/11 [==============================] - 0s 3ms/step - loss: 0.6011 - accuracy: 0.6533\n",
      "Epoch 20/180\n",
      "11/11 [==============================] - 0s 2ms/step - loss: 0.5991 - accuracy: 0.6533\n",
      "Epoch 21/180\n",
      "11/11 [==============================] - 0s 4ms/step - loss: 0.5968 - accuracy: 0.6533\n",
      "Epoch 22/180\n",
      "11/11 [==============================] - 0s 3ms/step - loss: 0.5940 - accuracy: 0.6533\n",
      "Epoch 23/180\n",
      "11/11 [==============================] - 0s 3ms/step - loss: 0.5918 - accuracy: 0.6533\n",
      "Epoch 24/180\n",
      "11/11 [==============================] - 0s 3ms/step - loss: 0.5879 - accuracy: 0.6533\n",
      "Epoch 25/180\n",
      "11/11 [==============================] - 0s 4ms/step - loss: 0.5855 - accuracy: 0.6533\n",
      "Epoch 26/180\n",
      "11/11 [==============================] - 0s 3ms/step - loss: 0.5837 - accuracy: 0.6533\n",
      "Epoch 27/180\n",
      "11/11 [==============================] - 0s 3ms/step - loss: 0.5811 - accuracy: 0.6533\n",
      "Epoch 28/180\n",
      "11/11 [==============================] - 0s 2ms/step - loss: 0.5784 - accuracy: 0.6533\n",
      "Epoch 29/180\n",
      "11/11 [==============================] - 0s 3ms/step - loss: 0.5768 - accuracy: 0.6533\n",
      "Epoch 30/180\n",
      "11/11 [==============================] - 0s 3ms/step - loss: 0.5754 - accuracy: 0.6533\n",
      "Epoch 31/180\n",
      "11/11 [==============================] - 0s 3ms/step - loss: 0.5736 - accuracy: 0.6533\n",
      "Epoch 32/180\n",
      "11/11 [==============================] - 0s 3ms/step - loss: 0.5727 - accuracy: 0.6533\n",
      "Epoch 33/180\n",
      "11/11 [==============================] - 0s 3ms/step - loss: 0.5717 - accuracy: 0.6533\n",
      "Epoch 34/180\n",
      "11/11 [==============================] - 0s 4ms/step - loss: 0.5709 - accuracy: 0.6533\n",
      "Epoch 35/180\n",
      "11/11 [==============================] - 0s 4ms/step - loss: 0.5701 - accuracy: 0.6533\n",
      "Epoch 36/180\n",
      "11/11 [==============================] - 0s 3ms/step - loss: 0.5687 - accuracy: 0.6533\n",
      "Epoch 37/180\n",
      "11/11 [==============================] - 0s 3ms/step - loss: 0.5672 - accuracy: 0.6533\n",
      "Epoch 38/180\n",
      "11/11 [==============================] - 0s 3ms/step - loss: 0.5663 - accuracy: 0.6533\n",
      "Epoch 39/180\n",
      "11/11 [==============================] - 0s 2ms/step - loss: 0.5657 - accuracy: 0.6533\n",
      "Epoch 40/180\n",
      "11/11 [==============================] - 0s 2ms/step - loss: 0.5655 - accuracy: 0.6533\n",
      "Epoch 41/180\n",
      "11/11 [==============================] - 0s 3ms/step - loss: 0.5642 - accuracy: 0.6533\n",
      "Epoch 42/180\n",
      "11/11 [==============================] - 0s 3ms/step - loss: 0.5633 - accuracy: 0.6563\n",
      "Epoch 43/180\n",
      "11/11 [==============================] - 0s 3ms/step - loss: 0.5625 - accuracy: 0.6625\n",
      "Epoch 44/180\n",
      "11/11 [==============================] - 0s 3ms/step - loss: 0.5613 - accuracy: 0.6687\n",
      "Epoch 45/180\n",
      "11/11 [==============================] - 0s 3ms/step - loss: 0.5602 - accuracy: 0.6904\n",
      "Epoch 46/180\n",
      "11/11 [==============================] - 0s 3ms/step - loss: 0.5592 - accuracy: 0.6966\n",
      "Epoch 47/180\n",
      "11/11 [==============================] - 0s 4ms/step - loss: 0.5584 - accuracy: 0.7028\n",
      "Epoch 48/180\n",
      "11/11 [==============================] - 0s 3ms/step - loss: 0.5575 - accuracy: 0.7028\n",
      "Epoch 49/180\n",
      "11/11 [==============================] - 0s 4ms/step - loss: 0.5564 - accuracy: 0.7152\n",
      "Epoch 50/180\n",
      "11/11 [==============================] - 0s 3ms/step - loss: 0.5562 - accuracy: 0.7183\n",
      "Epoch 51/180\n",
      "11/11 [==============================] - 0s 3ms/step - loss: 0.5555 - accuracy: 0.7245\n",
      "Epoch 52/180\n",
      "11/11 [==============================] - 0s 3ms/step - loss: 0.5544 - accuracy: 0.7307\n",
      "Epoch 53/180\n",
      "11/11 [==============================] - 0s 3ms/step - loss: 0.5531 - accuracy: 0.7183\n",
      "Epoch 54/180\n",
      "11/11 [==============================] - 0s 3ms/step - loss: 0.5520 - accuracy: 0.7183\n",
      "Epoch 55/180\n",
      "11/11 [==============================] - 0s 3ms/step - loss: 0.5510 - accuracy: 0.7214\n",
      "Epoch 56/180\n",
      "11/11 [==============================] - 0s 2ms/step - loss: 0.5516 - accuracy: 0.7152\n",
      "Epoch 57/180\n",
      "11/11 [==============================] - 0s 3ms/step - loss: 0.5496 - accuracy: 0.7121\n",
      "Epoch 58/180\n",
      "11/11 [==============================] - 0s 3ms/step - loss: 0.5486 - accuracy: 0.7214\n",
      "Epoch 59/180\n",
      "11/11 [==============================] - 0s 3ms/step - loss: 0.5473 - accuracy: 0.7245\n",
      "Epoch 60/180\n",
      "11/11 [==============================] - 0s 3ms/step - loss: 0.5463 - accuracy: 0.7245\n",
      "Epoch 61/180\n",
      "11/11 [==============================] - 0s 3ms/step - loss: 0.5452 - accuracy: 0.7183\n",
      "Epoch 62/180\n",
      "11/11 [==============================] - 0s 3ms/step - loss: 0.5440 - accuracy: 0.7152\n",
      "Epoch 63/180\n",
      "11/11 [==============================] - 0s 2ms/step - loss: 0.5432 - accuracy: 0.7121\n",
      "Epoch 64/180\n",
      "11/11 [==============================] - 0s 3ms/step - loss: 0.5414 - accuracy: 0.7152\n",
      "Epoch 65/180\n",
      "11/11 [==============================] - 0s 3ms/step - loss: 0.5417 - accuracy: 0.7121\n",
      "Epoch 66/180\n",
      "11/11 [==============================] - 0s 3ms/step - loss: 0.5406 - accuracy: 0.7183\n",
      "Epoch 67/180\n",
      "11/11 [==============================] - 0s 4ms/step - loss: 0.5392 - accuracy: 0.7214\n",
      "Epoch 68/180\n",
      "11/11 [==============================] - 0s 4ms/step - loss: 0.5390 - accuracy: 0.7183\n",
      "Epoch 69/180\n",
      "11/11 [==============================] - 0s 3ms/step - loss: 0.5394 - accuracy: 0.7183\n",
      "Epoch 70/180\n",
      "11/11 [==============================] - 0s 2ms/step - loss: 0.5368 - accuracy: 0.7183\n",
      "Epoch 71/180\n",
      "11/11 [==============================] - 0s 3ms/step - loss: 0.5368 - accuracy: 0.7121\n",
      "Epoch 72/180\n",
      "11/11 [==============================] - 0s 3ms/step - loss: 0.5353 - accuracy: 0.7183\n",
      "Epoch 73/180\n",
      "11/11 [==============================] - 0s 4ms/step - loss: 0.5341 - accuracy: 0.7183\n",
      "Epoch 74/180\n",
      "11/11 [==============================] - 0s 3ms/step - loss: 0.5336 - accuracy: 0.7152\n",
      "Epoch 75/180\n",
      "11/11 [==============================] - 0s 3ms/step - loss: 0.5320 - accuracy: 0.7183\n",
      "Epoch 76/180\n",
      "11/11 [==============================] - 0s 3ms/step - loss: 0.5320 - accuracy: 0.7214\n",
      "Epoch 77/180\n",
      "11/11 [==============================] - 0s 3ms/step - loss: 0.5327 - accuracy: 0.7214\n",
      "Epoch 78/180\n",
      "11/11 [==============================] - 0s 3ms/step - loss: 0.5329 - accuracy: 0.7152\n",
      "Epoch 79/180\n",
      "11/11 [==============================] - 0s 3ms/step - loss: 0.5312 - accuracy: 0.7152\n",
      "Epoch 80/180\n",
      "11/11 [==============================] - 0s 3ms/step - loss: 0.5321 - accuracy: 0.7152\n",
      "Epoch 81/180\n",
      "11/11 [==============================] - 0s 2ms/step - loss: 0.5300 - accuracy: 0.7183\n",
      "Epoch 82/180\n",
      "11/11 [==============================] - 0s 3ms/step - loss: 0.5295 - accuracy: 0.7183\n",
      "Epoch 83/180\n",
      "11/11 [==============================] - 0s 3ms/step - loss: 0.5305 - accuracy: 0.7245\n",
      "Epoch 84/180\n",
      "11/11 [==============================] - 0s 3ms/step - loss: 0.5301 - accuracy: 0.7183\n",
      "Epoch 85/180\n",
      "11/11 [==============================] - 0s 2ms/step - loss: 0.5289 - accuracy: 0.7245\n",
      "Epoch 86/180\n",
      "11/11 [==============================] - 0s 3ms/step - loss: 0.5275 - accuracy: 0.7276\n",
      "Epoch 87/180\n",
      "11/11 [==============================] - 0s 3ms/step - loss: 0.5279 - accuracy: 0.7245\n",
      "Epoch 88/180\n",
      "11/11 [==============================] - 0s 2ms/step - loss: 0.5294 - accuracy: 0.7245\n",
      "Epoch 89/180\n",
      "11/11 [==============================] - 0s 4ms/step - loss: 0.5262 - accuracy: 0.7245\n",
      "Epoch 90/180\n",
      "11/11 [==============================] - 0s 4ms/step - loss: 0.5257 - accuracy: 0.7245\n",
      "Epoch 91/180\n",
      "11/11 [==============================] - 0s 4ms/step - loss: 0.5256 - accuracy: 0.7276\n",
      "Epoch 92/180\n",
      "11/11 [==============================] - 0s 3ms/step - loss: 0.5253 - accuracy: 0.7276\n",
      "Epoch 93/180\n",
      "11/11 [==============================] - 0s 3ms/step - loss: 0.5255 - accuracy: 0.7337\n",
      "Epoch 94/180\n",
      "11/11 [==============================] - 0s 3ms/step - loss: 0.5248 - accuracy: 0.7307\n",
      "Epoch 95/180\n",
      "11/11 [==============================] - 0s 3ms/step - loss: 0.5254 - accuracy: 0.7307\n",
      "Epoch 96/180\n",
      "11/11 [==============================] - 0s 3ms/step - loss: 0.5243 - accuracy: 0.7307\n",
      "Epoch 97/180\n",
      "11/11 [==============================] - 0s 2ms/step - loss: 0.5240 - accuracy: 0.7276\n",
      "Epoch 98/180\n",
      "11/11 [==============================] - 0s 3ms/step - loss: 0.5241 - accuracy: 0.7307\n",
      "Epoch 99/180\n",
      "11/11 [==============================] - 0s 3ms/step - loss: 0.5235 - accuracy: 0.7307\n",
      "Epoch 100/180\n",
      "11/11 [==============================] - 0s 3ms/step - loss: 0.5236 - accuracy: 0.7276\n",
      "Epoch 101/180\n",
      "11/11 [==============================] - 0s 3ms/step - loss: 0.5228 - accuracy: 0.7337\n",
      "Epoch 102/180\n",
      "11/11 [==============================] - 0s 2ms/step - loss: 0.5227 - accuracy: 0.7337\n",
      "Epoch 103/180\n",
      "11/11 [==============================] - 0s 4ms/step - loss: 0.5236 - accuracy: 0.7337\n",
      "Epoch 104/180\n",
      "11/11 [==============================] - 0s 3ms/step - loss: 0.5233 - accuracy: 0.7214\n",
      "Epoch 105/180\n",
      "11/11 [==============================] - 0s 3ms/step - loss: 0.5219 - accuracy: 0.7307\n",
      "Epoch 106/180\n",
      "11/11 [==============================] - 0s 3ms/step - loss: 0.5222 - accuracy: 0.7307\n",
      "Epoch 107/180\n",
      "11/11 [==============================] - 0s 4ms/step - loss: 0.5211 - accuracy: 0.7307\n",
      "Epoch 108/180\n",
      "11/11 [==============================] - 0s 4ms/step - loss: 0.5211 - accuracy: 0.7337\n",
      "Epoch 109/180\n",
      "11/11 [==============================] - 0s 3ms/step - loss: 0.5231 - accuracy: 0.7276\n",
      "Epoch 110/180\n",
      "11/11 [==============================] - 0s 3ms/step - loss: 0.5222 - accuracy: 0.7368\n",
      "Epoch 111/180\n",
      "11/11 [==============================] - 0s 3ms/step - loss: 0.5210 - accuracy: 0.7337\n",
      "Epoch 112/180\n",
      "11/11 [==============================] - 0s 2ms/step - loss: 0.5207 - accuracy: 0.7337\n",
      "Epoch 113/180\n",
      "11/11 [==============================] - 0s 3ms/step - loss: 0.5204 - accuracy: 0.7307\n",
      "Epoch 114/180\n",
      "11/11 [==============================] - 0s 2ms/step - loss: 0.5210 - accuracy: 0.7214\n",
      "Epoch 115/180\n",
      "11/11 [==============================] - 0s 3ms/step - loss: 0.5199 - accuracy: 0.7399\n",
      "Epoch 116/180\n",
      "11/11 [==============================] - 0s 3ms/step - loss: 0.5207 - accuracy: 0.7337\n",
      "Epoch 117/180\n",
      "11/11 [==============================] - 0s 3ms/step - loss: 0.5196 - accuracy: 0.7399\n",
      "Epoch 118/180\n",
      "11/11 [==============================] - 0s 3ms/step - loss: 0.5214 - accuracy: 0.7245\n",
      "Epoch 119/180\n",
      "11/11 [==============================] - 0s 3ms/step - loss: 0.5208 - accuracy: 0.7276\n",
      "Epoch 120/180\n",
      "11/11 [==============================] - 0s 3ms/step - loss: 0.5203 - accuracy: 0.7245\n",
      "Epoch 121/180\n",
      "11/11 [==============================] - 0s 7ms/step - loss: 0.5195 - accuracy: 0.7276\n",
      "Epoch 122/180\n",
      "11/11 [==============================] - 0s 6ms/step - loss: 0.5190 - accuracy: 0.7399\n",
      "Epoch 123/180\n",
      "11/11 [==============================] - 0s 6ms/step - loss: 0.5187 - accuracy: 0.7337\n",
      "Epoch 124/180\n",
      "11/11 [==============================] - 0s 6ms/step - loss: 0.5183 - accuracy: 0.7399\n",
      "Epoch 125/180\n",
      "11/11 [==============================] - 0s 3ms/step - loss: 0.5181 - accuracy: 0.7276\n",
      "Epoch 126/180\n",
      "11/11 [==============================] - 0s 5ms/step - loss: 0.5178 - accuracy: 0.7368\n",
      "Epoch 127/180\n",
      "11/11 [==============================] - 0s 3ms/step - loss: 0.5197 - accuracy: 0.7399\n",
      "Epoch 128/180\n",
      "11/11 [==============================] - 0s 4ms/step - loss: 0.5185 - accuracy: 0.7307\n",
      "Epoch 129/180\n",
      "11/11 [==============================] - 0s 4ms/step - loss: 0.5177 - accuracy: 0.7399\n",
      "Epoch 130/180\n",
      "11/11 [==============================] - 0s 2ms/step - loss: 0.5167 - accuracy: 0.7245\n",
      "Epoch 131/180\n",
      "11/11 [==============================] - 0s 3ms/step - loss: 0.5176 - accuracy: 0.7368\n",
      "Epoch 132/180\n",
      "11/11 [==============================] - 0s 3ms/step - loss: 0.5182 - accuracy: 0.7307\n",
      "Epoch 133/180\n",
      "11/11 [==============================] - 0s 2ms/step - loss: 0.5171 - accuracy: 0.7368\n",
      "Epoch 134/180\n",
      "11/11 [==============================] - 0s 3ms/step - loss: 0.5172 - accuracy: 0.7245\n",
      "Epoch 135/180\n",
      "11/11 [==============================] - 0s 2ms/step - loss: 0.5167 - accuracy: 0.7183\n",
      "Epoch 136/180\n",
      "11/11 [==============================] - 0s 2ms/step - loss: 0.5170 - accuracy: 0.7183\n",
      "Epoch 137/180\n",
      "11/11 [==============================] - 0s 3ms/step - loss: 0.5162 - accuracy: 0.7183\n",
      "Epoch 138/180\n",
      "11/11 [==============================] - 0s 2ms/step - loss: 0.5159 - accuracy: 0.7276\n",
      "Epoch 139/180\n",
      "11/11 [==============================] - 0s 2ms/step - loss: 0.5159 - accuracy: 0.7307\n",
      "Epoch 140/180\n",
      "11/11 [==============================] - 0s 3ms/step - loss: 0.5166 - accuracy: 0.7430\n",
      "Epoch 141/180\n",
      "11/11 [==============================] - 0s 4ms/step - loss: 0.5157 - accuracy: 0.7368\n",
      "Epoch 142/180\n",
      "11/11 [==============================] - 0s 3ms/step - loss: 0.5155 - accuracy: 0.7276\n",
      "Epoch 143/180\n",
      "11/11 [==============================] - 0s 3ms/step - loss: 0.5152 - accuracy: 0.7276\n",
      "Epoch 144/180\n",
      "11/11 [==============================] - 0s 3ms/step - loss: 0.5154 - accuracy: 0.7337\n",
      "Epoch 145/180\n",
      "11/11 [==============================] - 0s 4ms/step - loss: 0.5153 - accuracy: 0.7368\n",
      "Epoch 146/180\n",
      "11/11 [==============================] - 0s 2ms/step - loss: 0.5152 - accuracy: 0.7276\n",
      "Epoch 147/180\n",
      "11/11 [==============================] - 0s 2ms/step - loss: 0.5154 - accuracy: 0.7307\n",
      "Epoch 148/180\n",
      "11/11 [==============================] - 0s 4ms/step - loss: 0.5148 - accuracy: 0.7245\n",
      "Epoch 149/180\n",
      "11/11 [==============================] - 0s 2ms/step - loss: 0.5160 - accuracy: 0.7183\n",
      "Epoch 150/180\n",
      "11/11 [==============================] - 0s 3ms/step - loss: 0.5145 - accuracy: 0.7307\n",
      "Epoch 151/180\n",
      "11/11 [==============================] - 0s 2ms/step - loss: 0.5154 - accuracy: 0.7430\n",
      "Epoch 152/180\n",
      "11/11 [==============================] - 0s 2ms/step - loss: 0.5144 - accuracy: 0.7399\n",
      "Epoch 153/180\n",
      "11/11 [==============================] - 0s 5ms/step - loss: 0.5144 - accuracy: 0.7276\n",
      "Epoch 154/180\n",
      "11/11 [==============================] - 0s 4ms/step - loss: 0.5145 - accuracy: 0.7307\n",
      "Epoch 155/180\n",
      "11/11 [==============================] - 0s 4ms/step - loss: 0.5139 - accuracy: 0.7276\n",
      "Epoch 156/180\n",
      "11/11 [==============================] - 0s 3ms/step - loss: 0.5137 - accuracy: 0.7276\n",
      "Epoch 157/180\n",
      "11/11 [==============================] - 0s 3ms/step - loss: 0.5139 - accuracy: 0.7276\n",
      "Epoch 158/180\n",
      "11/11 [==============================] - 0s 2ms/step - loss: 0.5156 - accuracy: 0.7307\n",
      "Epoch 159/180\n",
      "11/11 [==============================] - 0s 3ms/step - loss: 0.5144 - accuracy: 0.7183\n",
      "Epoch 160/180\n",
      "11/11 [==============================] - 0s 2ms/step - loss: 0.5150 - accuracy: 0.7152\n",
      "Epoch 161/180\n",
      "11/11 [==============================] - 0s 3ms/step - loss: 0.5144 - accuracy: 0.7152\n",
      "Epoch 162/180\n",
      "11/11 [==============================] - 0s 3ms/step - loss: 0.5145 - accuracy: 0.7368\n",
      "Epoch 163/180\n",
      "11/11 [==============================] - 0s 3ms/step - loss: 0.5138 - accuracy: 0.7337\n",
      "Epoch 164/180\n",
      "11/11 [==============================] - 0s 3ms/step - loss: 0.5131 - accuracy: 0.7276\n",
      "Epoch 165/180\n",
      "11/11 [==============================] - 0s 3ms/step - loss: 0.5127 - accuracy: 0.7276\n",
      "Epoch 166/180\n",
      "11/11 [==============================] - 0s 2ms/step - loss: 0.5120 - accuracy: 0.7276\n",
      "Epoch 167/180\n",
      "11/11 [==============================] - 0s 3ms/step - loss: 0.5122 - accuracy: 0.7399\n",
      "Epoch 168/180\n",
      "11/11 [==============================] - 0s 3ms/step - loss: 0.5121 - accuracy: 0.7399\n",
      "Epoch 169/180\n",
      "11/11 [==============================] - 0s 2ms/step - loss: 0.5116 - accuracy: 0.7276\n",
      "Epoch 170/180\n",
      "11/11 [==============================] - 0s 3ms/step - loss: 0.5125 - accuracy: 0.7337\n",
      "Epoch 171/180\n",
      "11/11 [==============================] - 0s 2ms/step - loss: 0.5124 - accuracy: 0.7245\n",
      "Epoch 172/180\n",
      "11/11 [==============================] - 0s 3ms/step - loss: 0.5134 - accuracy: 0.7214\n",
      "Epoch 173/180\n",
      "11/11 [==============================] - 0s 3ms/step - loss: 0.5129 - accuracy: 0.7152\n",
      "Epoch 174/180\n",
      "11/11 [==============================] - 0s 3ms/step - loss: 0.5131 - accuracy: 0.7152\n",
      "Epoch 175/180\n",
      "11/11 [==============================] - 0s 3ms/step - loss: 0.5126 - accuracy: 0.7214\n",
      "Epoch 176/180\n",
      "11/11 [==============================] - 0s 2ms/step - loss: 0.5116 - accuracy: 0.7183\n",
      "Epoch 177/180\n",
      "11/11 [==============================] - 0s 3ms/step - loss: 0.5110 - accuracy: 0.7152\n",
      "Epoch 178/180\n",
      "11/11 [==============================] - 0s 2ms/step - loss: 0.5110 - accuracy: 0.7214\n",
      "Epoch 179/180\n",
      "11/11 [==============================] - 0s 3ms/step - loss: 0.5105 - accuracy: 0.7214\n",
      "Epoch 180/180\n",
      "11/11 [==============================] - 0s 3ms/step - loss: 0.5113 - accuracy: 0.7276\n"
     ]
    },
    {
     "data": {
      "text/plain": [
       "<keras.callbacks.History at 0x20a521daa60>"
      ]
     },
     "execution_count": 649,
     "metadata": {},
     "output_type": "execute_result"
    }
   ],
   "source": [
    "                                                      #learned from : [2]\n",
    "from tensorflow import keras \n",
    "\n",
    "model = keras.Sequential([\n",
    "    keras.layers.Dense(9 ,input_shape=(9, ),activation='relu'),\n",
    "    keras.layers.Dense(5 ,activation='relu'),\n",
    "    keras.layers.Dense(1,activation='sigmoid'),\n",
    "     ])\n",
    "     \n",
    "model.compile(optimizer='adam',\n",
    "              loss = 'binary_crossentropy',\n",
    "              metrics=['accuracy'])\n",
    "\n",
    "model.fit(X_train, y_train, epochs=180)\n"
   ]
  },
  {
   "cell_type": "code",
   "execution_count": 650,
   "id": "9d9a9629",
   "metadata": {},
   "outputs": [],
   "source": [
    "yp = model.predict(X_test)\n",
    "#yp        # returns a 2d array, not useful for the confusion matrix"
   ]
  },
  {
   "cell_type": "code",
   "execution_count": 651,
   "id": "19bbc1c4",
   "metadata": {},
   "outputs": [
    {
     "data": {
      "text/plain": [
       "[0, 1, 0, 1, 0, 1, 0, 0, 0, 0]"
      ]
     },
     "execution_count": 651,
     "metadata": {},
     "output_type": "execute_result"
    }
   ],
   "source": [
    "#converting the 2d array to 1 dimention array \n",
    "y_pred_annK =[]\n",
    "for element in yp:\n",
    "    if element > 0.5:\n",
    "        y_pred_annK.append(1)\n",
    "    else:\n",
    "        y_pred_annK.append(0)\n",
    "y_pred_annK[:10]\n",
    "# [2]"
   ]
  },
  {
   "cell_type": "code",
   "execution_count": 653,
   "id": "589e9bc2",
   "metadata": {},
   "outputs": [
    {
     "data": {
      "text/plain": [
       "Text(33.0, 0.5, 'Truth')"
      ]
     },
     "execution_count": 653,
     "metadata": {},
     "output_type": "execute_result"
    },
    {
     "data": {
      "image/png": "[encoded data removed]",
      "text/plain": [
       "<Figure size 432x288 with 2 Axes>"
      ]
     },
     "metadata": {
      "needs_background": "light"
     },
     "output_type": "display_data"
    }
   ],
   "source": [
    "cm_ann_keras = tf.math.confusion_matrix(labels=y_test, predictions=y_pred_annK)\n",
    "\n",
    "plt.Figure(figsize=(9,7))\n",
    "sn.heatmap(cm_ann_keras,annot =True,fmt = 'd')\n",
    "plt.xlabel('Predicted')\n",
    "plt.ylabel('Truth') \n",
    "#[2]"
   ]
  },
  {
   "cell_type": "code",
   "execution_count": 654,
   "id": "66c5a846",
   "metadata": {},
   "outputs": [
    {
     "name": "stdout",
     "output_type": "stream",
     "text": [
      "the ANN_K accuracy is: 73.0%\n"
     ]
    }
   ],
   "source": [
    "accuracy_of_ANN_keras = accuracy_score(y_test, y_pred_annK)\n",
    "print(f'the ANN_K accuracy is: {round( accuracy_of_ANN_keras * 100, 0)}%' )"
   ]
  },
  {
   "cell_type": "code",
   "execution_count": 655,
   "id": "5bdf5a18",
   "metadata": {},
   "outputs": [
    {
     "data": {
      "text/plain": [
       "(<tf.Tensor: shape=(), dtype=float64, numpy=0.8461538461538461>,\n",
       " <tf.Tensor: shape=(), dtype=float64, numpy=0.7623762376237624>)"
      ]
     },
     "execution_count": 655,
     "metadata": {},
     "output_type": "execute_result"
    }
   ],
   "source": [
    "recall_Ann_k = cm_ann_keras[0][0]/(cm_ann_keras[0][0] + cm_ann_keras[0][1])\n",
    "precision_Ann_k = cm_ann_keras[0][0]/(cm_ann_keras[0][0]+cm_ann_keras[1][1])\n",
    "recall_Ann_k,precision_Ann_k"
   ]
  },
  {
   "cell_type": "markdown",
   "id": "aac87fdf",
   "metadata": {},
   "source": [
    "                                                         Graphical Representation"
   ]
  },
  {
   "cell_type": "code",
   "execution_count": 656,
   "id": "6c6095cd-e1c8-47c4-9d44-2d23676ed5d1",
   "metadata": {},
   "outputs": [],
   "source": [
    "\n",
    "results = {'Accuracy': [Baseline_Accuracy*100,accuracy_of_KNN*100,accuracy_of_ANN*100,accuracy_of_ANN_keras*100],\n",
    "           'Precision': [Baseline_Precision*100,precision_of_knn*100,precision_ann*100,precision_Ann_k*100],\n",
    "           'Recall': [0,recall_of_knn*100,recall_ann*100,recall_Ann_k*100]}\n",
    "\n",
    "index = ['BaseLine','KNN','ANN','ANN_K']\n"
   ]
  },
  {
   "cell_type": "code",
   "execution_count": 657,
   "id": "fd8d4f1e-4caf-4860-8238-e05ff9bb245d",
   "metadata": {},
   "outputs": [],
   "source": [
    "#Data structure contains labeled axes (rows and columns).\n",
    "results =pd.DataFrame(results,index=index)"
   ]
  },
  {
   "cell_type": "markdown",
   "id": "225948c7",
   "metadata": {},
   "source": [
    "Bar Plot of two model implemented //\n",
    "X axis : Models //\n",
    "Y axis : Values of Accuracy precision and recall"
   ]
  },
  {
   "cell_type": "code",
   "execution_count": 658,
   "id": "2cf6b4fa",
   "metadata": {},
   "outputs": [],
   "source": [
    "#converts objects, to plot them on a graph\n",
    "results= results.astype(float, errors = 'raise')"
   ]
  },
  {
   "cell_type": "code",
   "execution_count": 659,
   "metadata": {},
   "outputs": [
    {
     "data": {
      "text/html": [
       "<div>\n",
       "<style scoped>\n",
       "    .dataframe tbody tr th:only-of-type {\n",
       "        vertical-align: middle;\n",
       "    }\n",
       "\n",
       "    .dataframe tbody tr th {\n",
       "        vertical-align: top;\n",
       "    }\n",
       "\n",
       "    .dataframe thead th {\n",
       "        text-align: right;\n",
       "    }\n",
       "</style>\n",
       "<table border=\"1\" class=\"dataframe\">\n",
       "  <thead>\n",
       "    <tr style=\"text-align: right;\">\n",
       "      <th></th>\n",
       "      <th>Accuracy</th>\n",
       "      <th>Precision</th>\n",
       "      <th>Recall</th>\n",
       "    </tr>\n",
       "  </thead>\n",
       "  <tbody>\n",
       "    <tr>\n",
       "      <th>BaseLine</th>\n",
       "      <td>65.467626</td>\n",
       "      <td>34.532374</td>\n",
       "      <td>0.000000</td>\n",
       "    </tr>\n",
       "    <tr>\n",
       "      <th>KNN</th>\n",
       "      <td>70.503597</td>\n",
       "      <td>79.591837</td>\n",
       "      <td>85.714286</td>\n",
       "    </tr>\n",
       "    <tr>\n",
       "      <th>ANN</th>\n",
       "      <td>73.381295</td>\n",
       "      <td>76.470588</td>\n",
       "      <td>85.714286</td>\n",
       "    </tr>\n",
       "    <tr>\n",
       "      <th>ANN_K</th>\n",
       "      <td>72.661871</td>\n",
       "      <td>76.237624</td>\n",
       "      <td>84.615385</td>\n",
       "    </tr>\n",
       "  </tbody>\n",
       "</table>\n",
       "</div>"
      ],
      "text/plain": [
       "           Accuracy  Precision     Recall\n",
       "BaseLine  65.467626  34.532374   0.000000\n",
       "KNN       70.503597  79.591837  85.714286\n",
       "ANN       73.381295  76.470588  85.714286\n",
       "ANN_K     72.661871  76.237624  84.615385"
      ]
     },
     "execution_count": 659,
     "metadata": {},
     "output_type": "execute_result"
    }
   ],
   "source": [
    "results"
   ]
  },
  {
   "cell_type": "code",
   "execution_count": 614,
   "id": "ba751738-d506-48c2-a84a-f72de1ac1c3a",
   "metadata": {},
   "outputs": [
    {
     "data": {
      "image/png": "[encoded data removed]",
      "text/plain": [
       "<Figure size 648x648 with 1 Axes>"
      ]
     },
     "metadata": {
      "needs_background": "light"
     },
     "output_type": "display_data"
    }
   ],
   "source": [
    "fig =results.plot(kind='bar',title='Comaprison of models',figsize =(9,9),ylim=[20,90]).get_figure()"
   ]
  },
  {
   "cell_type": "markdown",
   "id": "607d1b45",
   "metadata": {},
   "source": [
    "                                                                        REFERENCES\n",
    "                                                                    "
   ]
  },
  {
   "cell_type": "markdown",
   "id": "eed15320",
   "metadata": {},
   "source": [
    "[1] https://www.youtube.com/watch?v=Jf-6asHKLQw&ab_channel=EvidenceN\n",
    "[2] https://www.youtube.com/watch?v=MSBY28IJ47U&ab_channel=codebasics"
   ]
  }
 ],
 "metadata": {
  "kernelspec": {
   "display_name": "Python 3 (ipykernel)",
   "language": "python",
   "name": "python3"
  },
  "language_info": {
   "codemirror_mode": {
    "name": "ipython",
    "version": 3
   },
   "file_extension": ".py",
   "mimetype": "text/x-python",
   "name": "python",
   "nbconvert_exporter": "python",
   "pygments_lexer": "ipython3",
   "version": "3.9.7"
  }
 },
 "nbformat": 4,
 "nbformat_minor": 5
}
